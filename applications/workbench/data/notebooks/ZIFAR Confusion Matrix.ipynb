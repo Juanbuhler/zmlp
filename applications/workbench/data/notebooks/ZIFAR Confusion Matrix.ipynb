{
 "cells": [
  {
   "cell_type": "code",
   "execution_count": null,
   "metadata": {
    "code_folding": [
     63
    ]
   },
   "outputs": [],
   "source": [
    "import os\n",
    "import pandas as pd\n",
    "from IPython.display import clear_output\n",
    "\n",
    "import numpy as np\n",
    "import holoviews as hv\n",
    "from holoviews import streams\n",
    "hv.extension('bokeh')\n",
    "\n",
    "import boonsdk\n",
    "from boonlab.display import show_asset, show_thumbnails\n",
    "from boonlab.pandas import search_to_df\n",
    "from boonlab.proxies import download_proxy\n",
    "from boonsdk import app_from_env\n",
    "\n",
    "\n",
    "def get_labels_agg_for_pred(pred, model, minscore, maxscore):\n",
    "    '''Return an aggregation for the label values corresponding to one analysis result value'''\n",
    "    q = {\n",
    "        \"size\": 0,\n",
    "        \"query\": {\n",
    "                    \"bool\": {\n",
    "                        \"filter\": [\n",
    "                            {\"term\": {model.namespace + \".label\": pred}},\n",
    "                            {\"range\": {model.namespace + \".score\": {\n",
    "                                \"gte\": minscore,\n",
    "                                \"lte\": maxscore}}\n",
    "                            }\n",
    "                        ]\n",
    "                    }\n",
    "\n",
    "        },\n",
    "        \"aggs\": {\n",
    "            \"names\": {\n",
    "                \"nested\": {\n",
    "                    \"path\": \"labels\"\n",
    "                },\n",
    "                \"aggs\": {\n",
    "                    \"modelId\": {\n",
    "                        \"filter\": {\n",
    "                            \"term\": {\n",
    "                                \"labels.modelId\": model.id\n",
    "                            }\n",
    "                        },\n",
    "                        \"aggs\": {\n",
    "                            f'nested_{\"names\"}': {\n",
    "                                \"terms\": {\n",
    "                                    \"field\": \"labels.label\",\n",
    "                                    \"size\": 1000\n",
    "                                }\n",
    "                            }\n",
    "                        }\n",
    "                    }\n",
    "                }\n",
    "            }\n",
    "        }}\n",
    "\n",
    "\n",
    "    \n",
    "    \n",
    "    search = app.assets.search(q)\n",
    "    return search.aggregations()['nested#names']['filter#modelId']['sterms#nested_names']['buckets']\n",
    "\n",
    "def get_preds_agg(model):\n",
    "    '''Return an aggregation for the possible values of a classifier results'''\n",
    "    q = {\n",
    "            \"nested\": {\n",
    "                \"path\": model.namespace + '.label'\n",
    "            },\n",
    "            \"aggs\": {\n",
    "                \"names\": {\n",
    "                    \"terms\": {\n",
    "                        \"field\": model.namespace + '.label',\n",
    "                        \"size\": 1000,\n",
    "                        \"order\": {\"_count\": \"desc\"}\n",
    "                    }\n",
    "                }\n",
    "            }\n",
    "        }\n",
    "\n",
    "    search = app.assets.search(q)\n",
    "    return search.aggregations()['sterms#names']['buckets']\n"
   ]
  },
  {
   "cell_type": "code",
   "execution_count": null,
   "metadata": {},
   "outputs": [],
   "source": [
    "%env BOONAI_SERVER https://dev.boonai.app/\n",
    "%env BOONAI_APIKEY \"eyJhY2Nlc3NLZXkiOiJET0JyUUE0bmI0VDMwOG9XbENmSlRRIiwic2VjcmV0S2V5IjoieGVsWXVxd2lpUWpWemI0c3Y2QXBPdyJ9\"\n",
    "app = app_from_env()\n"
   ]
  },
  {
   "cell_type": "code",
   "execution_count": null,
   "metadata": {
    "code_folding": []
   },
   "outputs": [],
   "source": [
    "# Full Confusion Matrix \n",
    "\n",
    "model = app.models.find_one_model(name='knn')\n",
    "\n",
    "minscore = 0.0\n",
    "maxscore = 1.0\n",
    "\n",
    "data = []\n",
    "rows = []\n",
    "%opts HeatMap [width=750 height=700 logz=True fontsize={'xticks': '6pt'}, tools=['hover'] xrotation=90] (cmap='Blues') \n",
    "\n",
    "allpreds = []\n",
    "\n",
    "preds = get_preds_agg(model)\n",
    "for p in preds:\n",
    "    allpreds.append(p['key'])\n",
    "    \n",
    "for p in preds:\n",
    "    name = p['key']\n",
    "    labels = get_labels_agg_for_pred(p['key'], model, minscore, maxscore)\n",
    "    for l in labels:\n",
    "        data.append((l['key'], p['key'], l['doc_count']))\n",
    "\n",
    "df = pd.DataFrame(data, columns=['Real', 'Predicted', 'number'])\n",
    "real = hv.Dimension(\"Real\", values=np.unique(df[\"Real\"]))\n",
    "pred = hv.Dimension(\"Predicted\", values=np.unique(df[\"Predicted\"]))\n",
    "heatmap = hv.HeatMap(df, kdims = [real, pred])#heatmap.opts(height=500, width=900)\n",
    "heatmap.opts(height=900, width=900)\n",
    "\n",
    "hv.ipython.display(heatmap)\n"
   ]
  },
  {
   "cell_type": "code",
   "execution_count": null,
   "metadata": {},
   "outputs": [],
   "source": [
    "# This is the data that made the matrix above, we will use below:\n",
    "\n",
    "df"
   ]
  },
  {
   "cell_type": "code",
   "execution_count": null,
   "metadata": {},
   "outputs": [],
   "source": [
    "# Make a confusion matrix array from the data above\n",
    "# documentation on this at https://scikit-learn.org/stable/modules/generated/sklearn.metrics.confusion_matrix.html\n",
    "\n",
    "from sklearn.metrics import confusion_matrix\n",
    "\n",
    "true = list(df['Real'])\n",
    "pred = list(df['Predicted'])\n",
    "num = list(df['number'])\n",
    "confusion_matrix(true, pred, sample_weight=num, normalize=None)"
   ]
  },
  {
   "cell_type": "code",
   "execution_count": null,
   "metadata": {},
   "outputs": [],
   "source": [
    "# Plot the graph with matplotlib\n",
    "# Note the axis are swapped...\n",
    "\n",
    "import matplotlib.pyplot as plt \n",
    "\n",
    "cm = confusion_matrix(true, pred, sample_weight=num, normalize=None)\n",
    "plt.figure(figsize=(8, 6))\n",
    "im = plt.imshow(cm, cmap=plt.cm.Blues)"
   ]
  },
  {
   "cell_type": "code",
   "execution_count": null,
   "metadata": {},
   "outputs": [],
   "source": [
    "# Finally, make an image for the whole matrix. \"x\" will contain opencv image data\n",
    "import cv2\n",
    "\n",
    "r = plt.gcf().canvas.get_renderer()\n",
    "x = im.make_image(r, magnification=2.0)[0]"
   ]
  },
  {
   "cell_type": "code",
   "execution_count": null,
   "metadata": {
    "scrolled": false
   },
   "outputs": [],
   "source": [
    "plt.imshow(x)\n",
    "plt.show()"
   ]
  },
  {
   "cell_type": "code",
   "execution_count": null,
   "metadata": {},
   "outputs": [],
   "source": [
    "# To save the image as a file we need to do GBR -> RGB because of the way opencv saves color channels\n",
    "\n",
    "y = cv2.cvtColor(x, cv2.COLOR_BGR2RGB)\n",
    "cv2.imwrite('conf.jpg', y)"
   ]
  }
 ],
 "metadata": {
  "kernelspec": {
   "display_name": "Python 3",
   "language": "python",
   "name": "python3"
  },
  "language_info": {
   "codemirror_mode": {
    "name": "ipython",
    "version": 3
   },
   "file_extension": ".py",
   "mimetype": "text/x-python",
   "name": "python",
   "nbconvert_exporter": "python",
   "pygments_lexer": "ipython3",
   "version": "3.8.5"
  },
  "toc": {
   "base_numbering": 1,
   "nav_menu": {},
   "number_sections": true,
   "sideBar": true,
   "skip_h1_title": false,
   "title_cell": "Table of Contents",
   "title_sidebar": "Contents",
   "toc_cell": false,
   "toc_position": {},
   "toc_section_display": true,
   "toc_window_display": false
  }
 },
 "nbformat": 4,
 "nbformat_minor": 4
}
