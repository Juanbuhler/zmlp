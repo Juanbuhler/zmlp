{
 "cells": [
  {
   "cell_type": "markdown",
   "metadata": {},
   "source": [
    "# Import Pomological Dataset\n",
    "\n",
    "This notebook will import a subset from the Pomological Watercolors Dataset: https://usdawatercolors.nal.usda.gov/pom/home.xhtml"
   ]
  },
  {
   "cell_type": "code",
   "execution_count": null,
   "metadata": {},
   "outputs": [],
   "source": [
    "import zmlp\n",
    "from zmlp import app_from_env, FileImport\n",
    "\n",
    "import json"
   ]
  },
  {
   "cell_type": "markdown",
   "metadata": {},
   "source": [
    "## Read input data"
   ]
  },
  {
   "cell_type": "code",
   "execution_count": null,
   "metadata": {},
   "outputs": [],
   "source": [
    "with open('/data/fruits.json', 'r') as file:\n",
    "        fruits = json.load(file)"
   ]
  },
  {
   "cell_type": "markdown",
   "metadata": {},
   "source": [
    "## Build list of URIs and import"
   ]
  },
  {
   "cell_type": "code",
   "execution_count": null,
   "metadata": {},
   "outputs": [],
   "source": [
    "app = app_from_env()\n",
    "\n",
    "files = []\n",
    "for f in fruits:\n",
    "    name = f['url'].split('id=')[1]\n",
    "    imageURL = 'http://naldc-legacy.nal.usda.gov/pom/' + name + '/screen.jpg'\n",
    "    files.append(FileImport(imageURL))\n",
    "\n",
    "# Import all the files. For a partial import, comment out this part and uncomment the code below\n",
    "while files:\n",
    "    app.assets.batch_import_files(files[:100])\n",
    "    files = files[100:]\n",
    "    \n",
    "# Import just 50 files:\n",
    "#app.assets.batch_import_files(files[:50])"
   ]
  },
  {
   "cell_type": "markdown",
   "metadata": {},
   "source": [
    "## Assign metadata\n",
    "\n",
    "Once the import is done, you can assign metadata to the imported assets:"
   ]
  },
  {
   "cell_type": "code",
   "execution_count": null,
   "metadata": {},
   "outputs": [],
   "source": [
    "attrs_to_delete = ['id', 'nal_note', 'notes_on_original', 'rights', 'url', 'wikimedia_url']\n",
    "\n",
    "fruit_dict = {}\n",
    "\n",
    "for i, f in enumerate(fruits):\n",
    "    fruit_id = f['url'].split('id=')[1]\n",
    "    for attr in attrs_to_delete:\n",
    "        if attr in f:\n",
    "            del(f[attr])\n",
    "    fruit_dict[fruit_id] = f\n",
    "\n",
    "app = app_from_env()\n",
    "\n",
    "search = app.assets.search({\"size\": 1550})\n",
    "\n",
    "for i, a in enumerate(search):\n",
    "    fruit_id = a.document['source']['path'].split('/')[-2]\n",
    "    a.set_attr('aux.pomological', fruit_dict[fruit_id])\n",
    "    print(i)\n",
    "    app.assets.index(a)"
   ]
  }
 ],
 "metadata": {
  "kernelspec": {
   "display_name": "Python 3",
   "language": "python",
   "name": "python3"
  },
  "language_info": {
   "codemirror_mode": {
    "name": "ipython",
    "version": 3
   },
   "file_extension": ".py",
   "mimetype": "text/x-python",
   "name": "python",
   "nbconvert_exporter": "python",
   "pygments_lexer": "ipython3",
   "version": "3.7.5"
  },
  "toc": {
   "base_numbering": 1,
   "nav_menu": {},
   "number_sections": true,
   "sideBar": true,
   "skip_h1_title": true,
   "title_cell": "Table of Contents",
   "title_sidebar": "Contents",
   "toc_cell": false,
   "toc_position": {},
   "toc_section_display": true,
   "toc_window_display": true
  }
 },
 "nbformat": 4,
 "nbformat_minor": 4
}
