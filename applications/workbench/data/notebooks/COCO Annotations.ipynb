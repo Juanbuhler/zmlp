{
 "cells": [
  {
   "cell_type": "markdown",
   "metadata": {},
   "source": [
    "# View Annotations as COCO"
   ]
  },
  {
   "cell_type": "markdown",
   "metadata": {},
   "source": [
    "**PREREQUISITE**\n",
    "\n",
    "This notebook assumes that images have already been imported (try running any of the \"Import...\"  example notebooks)"
   ]
  },
  {
   "cell_type": "code",
   "execution_count": 1,
   "metadata": {},
   "outputs": [],
   "source": [
    "import zmlp\n",
    "from zmlp import app_from_env\n",
    "from zw.display import show_asset, show_thumbnails\n",
    "\n",
    "import json\n",
    "import pprint"
   ]
  },
  {
   "cell_type": "markdown",
   "metadata": {},
   "source": [
    "## Connect"
   ]
  },
  {
   "cell_type": "code",
   "execution_count": 2,
   "metadata": {},
   "outputs": [],
   "source": [
    "app = zmlp.app_from_env()"
   ]
  },
  {
   "cell_type": "markdown",
   "metadata": {},
   "source": [
    "## Create Dataset"
   ]
  },
  {
   "cell_type": "code",
   "execution_count": 3,
   "metadata": {
    "scrolled": false
   },
   "outputs": [],
   "source": [
    "ds = app.datasets.create_dataset(\"stuff\", zmlp.DataSetType.OBJECT_DETECTION)\n"
   ]
  },
  {
   "cell_type": "markdown",
   "metadata": {},
   "source": [
    "### Create random label and bbox"
   ]
  },
  {
   "cell_type": "code",
   "execution_count": 4,
   "metadata": {
    "scrolled": true
   },
   "outputs": [],
   "source": [
    "label = ds.make_label(\"dog\", bbox=[0.1, 0.1, 0.5, 0.5])"
   ]
  },
  {
   "cell_type": "markdown",
   "metadata": {},
   "source": [
    "### Update Labels"
   ]
  },
  {
   "cell_type": "code",
   "execution_count": 5,
   "metadata": {},
   "outputs": [],
   "source": [
    "search = app.assets.search({\"size\": 20, \"query\": { \"term\": {\"system.state\": \"Analyzed\" }}})"
   ]
  },
  {
   "cell_type": "code",
   "execution_count": 6,
   "metadata": {},
   "outputs": [],
   "source": [
    "for a in search:\n",
    "    app.assets.update_labels(a, label)"
   ]
  },
  {
   "cell_type": "markdown",
   "metadata": {},
   "source": [
    "## DataSet Downloader"
   ]
  },
  {
   "cell_type": "markdown",
   "metadata": {},
   "source": [
    "We'll download the dataset locally to the root folder where Jupyter notebooks exist as dir name \"coco\""
   ]
  },
  {
   "cell_type": "code",
   "execution_count": 7,
   "metadata": {},
   "outputs": [],
   "source": [
    "ds = app.datasets.find_one_dataset(name='stuff')\n",
    "dl = app.datasets.get_dataset_downloader(ds, 'objects_coco', 'coco')"
   ]
  },
  {
   "cell_type": "code",
   "execution_count": 8,
   "metadata": {},
   "outputs": [
    {
     "data": {
      "text/plain": [
       "'coco'"
      ]
     },
     "execution_count": 8,
     "metadata": {},
     "output_type": "execute_result"
    }
   ],
   "source": [
    "dl.dst_dir"
   ]
  },
  {
   "cell_type": "markdown",
   "metadata": {},
   "source": [
    "### Build DataSetDownloader"
   ]
  },
  {
   "cell_type": "code",
   "execution_count": 9,
   "metadata": {},
   "outputs": [],
   "source": [
    "dl.build()"
   ]
  },
  {
   "cell_type": "markdown",
   "metadata": {},
   "source": [
    "## View Results"
   ]
  },
  {
   "cell_type": "markdown",
   "metadata": {},
   "source": [
    "The results for `train` and `test` are written to their respective `annotations.json` file"
   ]
  },
  {
   "cell_type": "code",
   "execution_count": 10,
   "metadata": {},
   "outputs": [],
   "source": [
    "with open(\"coco/set_train/annotations.json\", \"r\") as f:\n",
    "    out = json.load(f)"
   ]
  },
  {
   "cell_type": "markdown",
   "metadata": {},
   "source": [
    "Prettify the results for easier reading"
   ]
  },
  {
   "cell_type": "code",
   "execution_count": 11,
   "metadata": {},
   "outputs": [
    {
     "name": "stdout",
     "output_type": "stream",
     "text": [
      "{\n",
      "  \"type\": \"instances\",\n",
      "  \"images\": [\n",
      "    {\n",
      "      \"file_name\": \"coco/set_train/images/assets_SSUdTZgqTuoOHuMMFOU4FVtx1lBAO5zw_proxy_image_960x640.jpg\",\n",
      "      \"height\": 640,\n",
      "      \"width\": 960,\n",
      "      \"id\": 0\n",
      "    },\n",
      "    {\n",
      "      \"file_name\": \"coco/set_train/images/assets_LOqrQDeLqnOkH0je6vOooMGkBMXke4DQ_proxy_image_960x636.jpg\",\n",
      "      \"height\": 636,\n",
      "      \"width\": 960,\n",
      "      \"id\": 1\n",
      "    },\n",
      "    {\n",
      "      \"file_name\": \"coco/set_train/images/assets_VPq5lg9_aqR-vhW6M-3_xnrHxfWyu2UW_proxy_image_960x636.jpg\",\n",
      "      \"height\": 636,\n",
      "      \"width\": 960,\n",
      "      \"id\": 2\n",
      "    },\n",
      "    {\n",
      "      \"file_name\": \"coco/set_train/images/assets_ynhes1M00XbPNhjW0IDUBUfGlHs_mF3k_proxy_image_840x562.jpg\",\n",
      "      \"height\": 562,\n",
      "      \"width\": 840,\n",
      "      \"id\": 3\n",
      "    },\n",
      "    {\n",
      "      \"file_name\": \"coco/set_train/images/assets_qUhIbw6tyOB1ybBcF00yt4ri3a2GomaY_proxy_image_960x608.jpg\",\n",
      "      \"height\": 608,\n",
      "      \"width\": 960,\n",
      "      \"id\": 4\n",
      "    },\n",
      "    {\n",
      "      \"file_name\": \"coco/set_train/images/assets_O2IouGaDOI5YmUNpj0Dl76FR1-ZGgzUK_proxy_image_960x636.jpg\",\n",
      "      \"height\": 636,\n",
      "      \"width\": 960,\n",
      "      \"id\": 5\n",
      "    }\n",
      "  ],\n",
      "  \"annotations\": [\n",
      "    {\n",
      "      \"bbox\": [\n",
      "        96,\n",
      "        64,\n",
      "        384.0,\n",
      "        224.0\n",
      "      ],\n",
      "      \"segmentation\": [],\n",
      "      \"ignore\": 0,\n",
      "      \"area\": 24576.0,\n",
      "      \"iscrowd\": 0,\n",
      "      \"id\": 0,\n",
      "      \"category_id\": 0,\n",
      "      \"image_id\": 0\n",
      "    },\n",
      "    {\n",
      "      \"bbox\": [\n",
      "        96,\n",
      "        63,\n",
      "        384.0,\n",
      "        222.0\n",
      "      ],\n",
      "      \"segmentation\": [],\n",
      "      \"ignore\": 0,\n",
      "      \"area\": 24192.0,\n",
      "      \"iscrowd\": 0,\n",
      "      \"id\": 1,\n",
      "      \"category_id\": 0,\n",
      "      \"image_id\": 1\n",
      "    },\n",
      "    {\n",
      "      \"bbox\": [\n",
      "        96,\n",
      "        63,\n",
      "        384.0,\n",
      "        222.0\n",
      "      ],\n",
      "      \"segmentation\": [],\n",
      "      \"ignore\": 0,\n",
      "      \"area\": 24192.0,\n",
      "      \"iscrowd\": 0,\n",
      "      \"id\": 2,\n",
      "      \"category_id\": 0,\n",
      "      \"image_id\": 2\n",
      "    },\n",
      "    {\n",
      "      \"bbox\": [\n",
      "        84,\n",
      "        56,\n",
      "        336.0,\n",
      "        197.0\n",
      "      ],\n",
      "      \"segmentation\": [],\n",
      "      \"ignore\": 0,\n",
      "      \"area\": 18816.0,\n",
      "      \"iscrowd\": 0,\n",
      "      \"id\": 3,\n",
      "      \"category_id\": 0,\n",
      "      \"image_id\": 3\n",
      "    },\n",
      "    {\n",
      "      \"bbox\": [\n",
      "        96,\n",
      "        60,\n",
      "        384.0,\n",
      "        208.0\n",
      "      ],\n",
      "      \"segmentation\": [],\n",
      "      \"ignore\": 0,\n",
      "      \"area\": 23040.0,\n",
      "      \"iscrowd\": 0,\n",
      "      \"id\": 4,\n",
      "      \"category_id\": 0,\n",
      "      \"image_id\": 4\n",
      "    },\n",
      "    {\n",
      "      \"bbox\": [\n",
      "        96,\n",
      "        63,\n",
      "        384.0,\n",
      "        222.0\n",
      "      ],\n",
      "      \"segmentation\": [],\n",
      "      \"ignore\": 0,\n",
      "      \"area\": 24192.0,\n",
      "      \"iscrowd\": 0,\n",
      "      \"id\": 5,\n",
      "      \"category_id\": 0,\n",
      "      \"image_id\": 5\n",
      "    }\n",
      "  ],\n",
      "  \"categories\": [\n",
      "    {\n",
      "      \"supercategory\": \"none\",\n",
      "      \"name\": \"dog\",\n",
      "      \"id\": 0\n",
      "    }\n",
      "  ]\n",
      "}\n"
     ]
    }
   ],
   "source": [
    "print(json.dumps(out, indent=2))"
   ]
  },
  {
   "cell_type": "code",
   "execution_count": null,
   "metadata": {},
   "outputs": [],
   "source": []
  }
 ],
 "metadata": {
  "kernelspec": {
   "display_name": "Python 3",
   "language": "python",
   "name": "python3"
  },
  "language_info": {
   "codemirror_mode": {
    "name": "ipython",
    "version": 3
   },
   "file_extension": ".py",
   "mimetype": "text/x-python",
   "name": "python",
   "nbconvert_exporter": "python",
   "pygments_lexer": "ipython3",
   "version": "3.7.5"
  },
  "toc": {
   "base_numbering": 1,
   "nav_menu": {},
   "number_sections": true,
   "sideBar": true,
   "skip_h1_title": false,
   "title_cell": "Table of Contents",
   "title_sidebar": "Contents",
   "toc_cell": false,
   "toc_position": {},
   "toc_section_display": true,
   "toc_window_display": true
  }
 },
 "nbformat": 4,
 "nbformat_minor": 4
}
