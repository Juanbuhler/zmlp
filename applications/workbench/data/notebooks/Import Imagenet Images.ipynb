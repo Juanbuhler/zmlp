{
 "cells": [
  {
   "cell_type": "markdown",
   "metadata": {},
   "source": [
    "# Import Imagenet Images\n",
    "This notebook will import up to n images from a list of Imagenet keywords"
   ]
  },
  {
   "cell_type": "markdown",
   "metadata": {},
   "source": [
    "## Setup"
   ]
  },
  {
   "cell_type": "code",
   "execution_count": 27,
   "metadata": {},
   "outputs": [
    {
     "name": "stderr",
     "output_type": "stream",
     "text": [
      "[nltk_data] Downloading package wordnet to /home/zorroa/nltk_data...\n",
      "[nltk_data]   Package wordnet is already up-to-date!\n"
     ]
    }
   ],
   "source": [
    "import zmlp\n",
    "from zmlp import app_from_env, FileImport\n",
    "from zmlp import DataSetType, DataSet\n",
    "\n",
    "import nltk\n",
    "nltk.download('wordnet')\n",
    "from nltk.corpus import wordnet as wn\n",
    "\n",
    "import requests\n"
   ]
  },
  {
   "cell_type": "markdown",
   "metadata": {},
   "source": [
    "## Do the import"
   ]
  },
  {
   "cell_type": "code",
   "execution_count": 28,
   "metadata": {},
   "outputs": [
    {
     "name": "stdout",
     "output_type": "stream",
     "text": [
      "n02958343\n",
      "n04490091\n",
      "n02691156\n"
     ]
    }
   ],
   "source": [
    "# Set 'labels' to the desired labels\n",
    "# There's no error checking so the labels should generate a valid Wordnet synset id\n",
    "\n",
    "# A lot of the Imagenet image URLs are stale, so 'number_per_label' is an upper limit.\n",
    "# Usually only about 50-60% of the URLs are valid\n",
    "\n",
    "# Dataset metadata stuff commented out for now until I figure out how to make it work\n",
    "\n",
    "labels = ['dog', 'cat', 'horse', 'bird']\n",
    "labels = ['car', 'truck', 'plane']\n",
    "\n",
    "number_per_label = 100\n",
    "\n",
    "app = app_from_env()\n",
    "#ds = app.datasets.create_dataset('imagenet', DataSetType.LabelDetection)\n",
    "\n",
    "for label in labels:\n",
    "    ss = wn.synset(wn.synsets(label)[0]._name)\n",
    "    offset = str(ss.offset()).zfill(8) + '-' + ss.pos()\n",
    "    offset = 'n' + offset.split('-')[0]\n",
    "    print(offset)\n",
    "    url = 'http://www.image-net.org/api/text/imagenet.synset.geturls?wnid=' + offset\n",
    "    url_list = requests.get(url).text.split()\n",
    "    \n",
    "    assets = [FileImport(u) for u in url_list[:number_per_label]]\n",
    "\n",
    "    app.assets.batch_import_files(assets, modules=[\"zvi-object-detection\"])\n",
    "    #app.assets.update_dataset_labels(assets, ds.make_label(label))"
   ]
  }
 ],
 "metadata": {
  "kernelspec": {
   "display_name": "Python 3",
   "language": "python",
   "name": "python3"
  },
  "language_info": {
   "codemirror_mode": {
    "name": "ipython",
    "version": 3
   },
   "file_extension": ".py",
   "mimetype": "text/x-python",
   "name": "python",
   "nbconvert_exporter": "python",
   "pygments_lexer": "ipython3",
   "version": "3.7.5"
  },
  "toc": {
   "base_numbering": 1,
   "nav_menu": {},
   "number_sections": true,
   "sideBar": true,
   "skip_h1_title": true,
   "title_cell": "Table of Contents",
   "title_sidebar": "Contents",
   "toc_cell": false,
   "toc_position": {},
   "toc_section_display": true,
   "toc_window_display": true
  }
 },
 "nbformat": 4,
 "nbformat_minor": 4
}
