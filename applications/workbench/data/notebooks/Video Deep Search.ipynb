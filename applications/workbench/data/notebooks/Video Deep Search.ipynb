{
 "cells": [
  {
   "cell_type": "markdown",
   "id": "honest-vinyl",
   "metadata": {},
   "source": [
    "# Video Deep Search"
   ]
  },
  {
   "cell_type": "code",
   "execution_count": null,
   "id": "varying-church",
   "metadata": {},
   "outputs": [],
   "source": [
    "import zmlp\n",
    "from zmlp import app_from_env\n",
    "from zvi.display import show_asset, show_thumbnails\n",
    "from zmlp.search import VideoClipSimilarityQuery, SimilarityQuery"
   ]
  },
  {
   "cell_type": "markdown",
   "id": "shared-donna",
   "metadata": {},
   "source": [
    "## Connects to a Explore video test server right now"
   ]
  },
  {
   "cell_type": "code",
   "execution_count": null,
   "id": "arbitrary-given",
   "metadata": {},
   "outputs": [],
   "source": [
    "%env ZMLP_SERVER https://dev.api.zvi.zorroa.com/\n",
    "%env ZMLP_APIKEY \"eyJhY2Nlc3NLZXkiOiJEajFHRDJtTmtkZFJtSFBnRVYwSnVnIiwic2VjcmV0S2V5IjoiampWRURrWFA4bnNnU2V6dDc2SGFxUSJ9\"\n",
    "app = app_from_env()"
   ]
  },
  {
   "cell_type": "code",
   "execution_count": null,
   "id": "racial-isolation",
   "metadata": {
    "scrolled": false
   },
   "outputs": [],
   "source": [
    "search = app.assets.search({\"size\": 40})\n",
    "images_list = show_thumbnails(search)"
   ]
  },
  {
   "cell_type": "code",
   "execution_count": null,
   "id": "terminal-consultation",
   "metadata": {},
   "outputs": [],
   "source": [
    "# We'll use one of the assets above to search into the videos\n",
    "\n",
    "asset = search[30]\n",
    "\n",
    "document = show_asset(asset)\n",
    "\n",
    "simhash = document['analysis']['zvi-image-similarity']['simhash']"
   ]
  },
  {
   "cell_type": "code",
   "execution_count": null,
   "id": "scheduled-former",
   "metadata": {},
   "outputs": [],
   "source": [
    "simq = VideoClipSimilarityQuery(simhash, min_score=0.1)\n",
    "\n",
    "\n",
    "q = {\n",
    "    \"size\": 20,\n",
    "    \"query\": {\n",
    "        \"bool\": {\n",
    "            \"must\": [\n",
    "                simq\n",
    "            ]\n",
    "        }\n",
    "    }, \"collapse\": { \"field\": \"clip.collapseKey.1secWindow\"}\n",
    "}\n",
    "\n",
    "vsearch = app.clips.search(q)\n",
    "images_list = show_thumbnails(vsearch)"
   ]
  }
 ],
 "metadata": {
  "kernelspec": {
   "display_name": "Python 3",
   "language": "python",
   "name": "python3"
  },
  "language_info": {
   "codemirror_mode": {
    "name": "ipython",
    "version": 3
   },
   "file_extension": ".py",
   "mimetype": "text/x-python",
   "name": "python",
   "nbconvert_exporter": "python",
   "pygments_lexer": "ipython3",
   "version": "3.8.5"
  },
  "toc": {
   "base_numbering": 1,
   "nav_menu": {},
   "number_sections": true,
   "sideBar": true,
   "skip_h1_title": true,
   "title_cell": "Table of Contents",
   "title_sidebar": "Contents",
   "toc_cell": false,
   "toc_position": {},
   "toc_section_display": true,
   "toc_window_display": true
  }
 },
 "nbformat": 4,
 "nbformat_minor": 5
}
