{
 "cells": [
  {
   "cell_type": "markdown",
   "metadata": {},
   "source": [
    "# ZMLP Search and Display"
   ]
  },
  {
   "cell_type": "code",
   "execution_count": 5,
   "metadata": {},
   "outputs": [],
   "source": [
    "from zmlp import app_from_env\n",
    "from zmlp.search import SimilarityQuery\n",
    "from zw.display import show_asset, show_thumbnails\n",
    "from zw.proxies import download_proxy\n",
    "import pprint"
   ]
  },
  {
   "cell_type": "markdown",
   "metadata": {},
   "source": [
    "## Connect"
   ]
  },
  {
   "cell_type": "code",
   "execution_count": 6,
   "metadata": {},
   "outputs": [],
   "source": [
    "app = app_from_env()\n"
   ]
  },
  {
   "cell_type": "markdown",
   "metadata": {},
   "source": [
    "## Display first 20 assets"
   ]
  },
  {
   "cell_type": "code",
   "execution_count": 8,
   "metadata": {
    "scrolled": true
   },
   "outputs": [
    {
     "data": {
      "text/html": [
       "<img style='width: 200px; height: 200px; object-fit: contain; margin: 3px; float: left; border: 2px solid black;' title='index: 0' src='tmp/fm89_X9p0cOrKiK2y97CgR7PHQocztAE.jpg' /><img style='width: 200px; height: 200px; object-fit: contain; margin: 3px; float: left; border: 2px solid black;' title='index: 1' src='tmp/SSUdTZgqTuoOHuMMFOU4FVtx1lBAO5zw.jpg' /><img style='width: 200px; height: 200px; object-fit: contain; margin: 3px; float: left; border: 2px solid black;' title='index: 2' src='tmp/LOqrQDeLqnOkH0je6vOooMGkBMXke4DQ.jpg' /><img style='width: 200px; height: 200px; object-fit: contain; margin: 3px; float: left; border: 2px solid black;' title='index: 3' src='tmp/VPq5lg9_aqR-vhW6M-3_xnrHxfWyu2UW.jpg' /><img style='width: 200px; height: 200px; object-fit: contain; margin: 3px; float: left; border: 2px solid black;' title='index: 4' src='tmp/uEh2JoUdDPybwUzX4QYPS-dkunzMtAcq.jpg' /><img style='width: 200px; height: 200px; object-fit: contain; margin: 3px; float: left; border: 2px solid black;' title='index: 5' src='tmp/kzGOQLhCBv0r7dQmWRITFZxodRDZ_DLZ.jpg' /><img style='width: 200px; height: 200px; object-fit: contain; margin: 3px; float: left; border: 2px solid black;' title='index: 6' src='tmp/8jxMkjZhqKVfXiYpV0hFCeXwym9D8bjY.jpg' /><img style='width: 200px; height: 200px; object-fit: contain; margin: 3px; float: left; border: 2px solid black;' title='index: 7' src='tmp/xp5wF4GuPP-FziBJr5f13tcUlQLhxr0L.jpg' /><img style='width: 200px; height: 200px; object-fit: contain; margin: 3px; float: left; border: 2px solid black;' title='index: 8' src='tmp/ynhes1M00XbPNhjW0IDUBUfGlHs_mF3k.jpg' /><img style='width: 200px; height: 200px; object-fit: contain; margin: 3px; float: left; border: 2px solid black;' title='index: 9' src='tmp/qUhIbw6tyOB1ybBcF00yt4ri3a2GomaY.jpg' /><img style='width: 200px; height: 200px; object-fit: contain; margin: 3px; float: left; border: 2px solid black;' title='index: 10' src='tmp/O2IouGaDOI5YmUNpj0Dl76FR1-ZGgzUK.jpg' /><img style='width: 200px; height: 200px; object-fit: contain; margin: 3px; float: left; border: 2px solid black;' title='index: 11' src='tmp/NLTuRl09W3CX4G78lQxKvdx01TZUpVMN.jpg' /><img style='width: 200px; height: 200px; object-fit: contain; margin: 3px; float: left; border: 2px solid black;' title='index: 12' src='tmp/ly2wVXe6CF1qsw7cXeDb18QLUjG3agy2.jpg' /><img style='width: 200px; height: 200px; object-fit: contain; margin: 3px; float: left; border: 2px solid black;' title='index: 13' src='tmp/Sb4V2DiTOz7nIB4jNczLl5ebqeZrCoGN.jpg' />"
      ],
      "text/plain": [
       "<IPython.core.display.HTML object>"
      ]
     },
     "metadata": {},
     "output_type": "display_data"
    }
   ],
   "source": [
    "search = app.assets.search({\"size\": 20, \"query\": { \"term\": {\"system.state\": \"Analyzed\" }}})\n",
    "\n",
    "show_thumbnails(search)"
   ]
  },
  {
   "cell_type": "markdown",
   "metadata": {},
   "source": [
    "## Look at one asset by index"
   ]
  },
  {
   "cell_type": "code",
   "execution_count": 5,
   "metadata": {
    "scrolled": false
   },
   "outputs": [
    {
     "ename": "IndexError",
     "evalue": "list index out of range",
     "output_type": "error",
     "traceback": [
      "\u001b[0;31m---------------------------------------------------------------------------\u001b[0m",
      "\u001b[0;31mIndexError\u001b[0m                                Traceback (most recent call last)",
      "\u001b[0;32m<ipython-input-5-a4dbc688de07>\u001b[0m in \u001b[0;36m<module>\u001b[0;34m\u001b[0m\n\u001b[0;32m----> 1\u001b[0;31m \u001b[0masset\u001b[0m \u001b[0;34m=\u001b[0m \u001b[0msearch\u001b[0m\u001b[0;34m[\u001b[0m\u001b[0;36m17\u001b[0m\u001b[0;34m]\u001b[0m\u001b[0;34m\u001b[0m\u001b[0;34m\u001b[0m\u001b[0m\n\u001b[0m\u001b[1;32m      2\u001b[0m \u001b[0;34m\u001b[0m\u001b[0m\n\u001b[1;32m      3\u001b[0m \u001b[0mshow_asset\u001b[0m\u001b[0;34m(\u001b[0m\u001b[0masset\u001b[0m\u001b[0;34m)\u001b[0m\u001b[0;34m\u001b[0m\u001b[0;34m\u001b[0m\u001b[0m\n\u001b[1;32m      4\u001b[0m \u001b[0;34m\u001b[0m\u001b[0m\n\u001b[1;32m      5\u001b[0m \u001b[0mpprint\u001b[0m\u001b[0;34m.\u001b[0m\u001b[0mpprint\u001b[0m\u001b[0;34m(\u001b[0m\u001b[0masset\u001b[0m\u001b[0;34m.\u001b[0m\u001b[0mdocument\u001b[0m\u001b[0;34m)\u001b[0m\u001b[0;34m\u001b[0m\u001b[0;34m\u001b[0m\u001b[0m\n",
      "\u001b[0;32m/usr/local/lib/python3.7/dist-packages/zmlp-1.0.0-py3.7.egg/zmlp/search.py\u001b[0m in \u001b[0;36m__getitem__\u001b[0;34m(self, item)\u001b[0m\n\u001b[1;32m    207\u001b[0m \u001b[0;34m\u001b[0m\u001b[0m\n\u001b[1;32m    208\u001b[0m     \u001b[0;32mdef\u001b[0m \u001b[0m__getitem__\u001b[0m\u001b[0;34m(\u001b[0m\u001b[0mself\u001b[0m\u001b[0;34m,\u001b[0m \u001b[0mitem\u001b[0m\u001b[0;34m)\u001b[0m\u001b[0;34m:\u001b[0m\u001b[0;34m\u001b[0m\u001b[0;34m\u001b[0m\u001b[0m\n\u001b[0;32m--> 209\u001b[0;31m         \u001b[0;32mreturn\u001b[0m \u001b[0mself\u001b[0m\u001b[0;34m.\u001b[0m\u001b[0massets\u001b[0m\u001b[0;34m[\u001b[0m\u001b[0mitem\u001b[0m\u001b[0;34m]\u001b[0m\u001b[0;34m\u001b[0m\u001b[0;34m\u001b[0m\u001b[0m\n\u001b[0m\u001b[1;32m    210\u001b[0m \u001b[0;34m\u001b[0m\u001b[0m\n\u001b[1;32m    211\u001b[0m \u001b[0;34m\u001b[0m\u001b[0m\n",
      "\u001b[0;31mIndexError\u001b[0m: list index out of range"
     ]
    }
   ],
   "source": [
    "asset = search[17]\n",
    "\n",
    "show_asset(asset)\n",
    "\n",
    "pprint.pprint(asset.document)"
   ]
  },
  {
   "cell_type": "markdown",
   "metadata": {},
   "source": [
    "## Do a similarity search"
   ]
  },
  {
   "cell_type": "code",
   "execution_count": 6,
   "metadata": {
    "code_folding": []
   },
   "outputs": [
    {
     "ename": "NameError",
     "evalue": "name 'asset' is not defined",
     "output_type": "error",
     "traceback": [
      "\u001b[0;31m---------------------------------------------------------------------------\u001b[0m",
      "\u001b[0;31mNameError\u001b[0m                                 Traceback (most recent call last)",
      "\u001b[0;32m<ipython-input-6-31345244f11f>\u001b[0m in \u001b[0;36m<module>\u001b[0;34m\u001b[0m\n\u001b[0;32m----> 1\u001b[0;31m \u001b[0mh\u001b[0m \u001b[0;34m=\u001b[0m \u001b[0masset\u001b[0m\u001b[0;34m.\u001b[0m\u001b[0mdocument\u001b[0m\u001b[0;34m[\u001b[0m\u001b[0;34m'analysis'\u001b[0m\u001b[0;34m]\u001b[0m\u001b[0;34m[\u001b[0m\u001b[0;34m'zvi-image-similarity'\u001b[0m\u001b[0;34m]\u001b[0m\u001b[0;34m[\u001b[0m\u001b[0;34m'simhash'\u001b[0m\u001b[0;34m]\u001b[0m\u001b[0;34m\u001b[0m\u001b[0;34m\u001b[0m\u001b[0m\n\u001b[0m\u001b[1;32m      2\u001b[0m \u001b[0;34m\u001b[0m\u001b[0m\n\u001b[1;32m      3\u001b[0m \u001b[0mmin_score\u001b[0m \u001b[0;34m=\u001b[0m \u001b[0;36m0.75\u001b[0m\u001b[0;34m\u001b[0m\u001b[0;34m\u001b[0m\u001b[0m\n\u001b[1;32m      4\u001b[0m \u001b[0;34m\u001b[0m\u001b[0m\n\u001b[1;32m      5\u001b[0m q = {\n",
      "\u001b[0;31mNameError\u001b[0m: name 'asset' is not defined"
     ]
    }
   ],
   "source": [
    "h = asset.document['analysis']['zvi-image-similarity']['simhash']\n",
    "\n",
    "min_score = 0.75\n",
    "\n",
    "q = {\n",
    "    \"query\": {\n",
    "        \"bool\": {\n",
    "            \"must\": [\n",
    "                SimilarityQuery(h)\n",
    "            ]\n",
    "        }\n",
    "    }\n",
    "}\n",
    "\n",
    "\n",
    "\n",
    "search = app.assets.search(q)\n",
    "\n",
    "show_thumbnails(search)"
   ]
  },
  {
   "cell_type": "code",
   "execution_count": null,
   "metadata": {},
   "outputs": [],
   "source": []
  }
 ],
 "metadata": {
  "kernelspec": {
   "display_name": "Python 3",
   "language": "python",
   "name": "python3"
  },
  "language_info": {
   "codemirror_mode": {
    "name": "ipython",
    "version": 3
   },
   "file_extension": ".py",
   "mimetype": "text/x-python",
   "name": "python",
   "nbconvert_exporter": "python",
   "pygments_lexer": "ipython3",
   "version": "3.7.5"
  },
  "toc": {
   "base_numbering": 1,
   "nav_menu": {},
   "number_sections": true,
   "sideBar": true,
   "skip_h1_title": true,
   "title_cell": "Table of Contents",
   "title_sidebar": "Contents",
   "toc_cell": false,
   "toc_position": {},
   "toc_section_display": true,
   "toc_window_display": true
  }
 },
 "nbformat": 4,
 "nbformat_minor": 4
}
