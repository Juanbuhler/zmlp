{
 "cells": [
  {
   "cell_type": "code",
   "execution_count": 54,
   "metadata": {},
   "outputs": [],
   "source": [
    "import zmlp\n",
    "from zmlp import app_from_env\n",
    "from zvi.display import show_asset, show_thumbnails\n",
    "\n",
    "import os\n",
    "import re\n",
    "import pprint\n",
    "import glob\n",
    "from enum import Enum\n",
    "from typing import List\n",
    "\n",
    "import urllib3\n",
    "urllib3.disable_warnings()"
   ]
  },
  {
   "cell_type": "code",
   "execution_count": null,
   "metadata": {},
   "outputs": [],
   "source": [
    "# API Key for dev server\n",
    "\n",
    "%env BOONAI_SERVER https://dev.api.zvi.zorroa.com/\n",
    "%env BOONAI_APIKEY \"PUT ENCODED API KEY HERE\""
   ]
  },
  {
   "cell_type": "code",
   "execution_count": 60,
   "metadata": {
    "scrolled": true
   },
   "outputs": [],
   "source": [
    "app = app_from_env()"
   ]
  },
  {
   "cell_type": "code",
   "execution_count": null,
   "metadata": {},
   "outputs": [],
   "source": [
    "# Regexp you might need\n",
    "\n",
    "letters_only = r'[^a-zA-Z]+'\n",
    "numbers_only = r'[^0-9]+'"
   ]
  },
  {
   "cell_type": "markdown",
   "metadata": {},
   "source": [
    "# Get Model Name"
   ]
  },
  {
   "cell_type": "code",
   "execution_count": null,
   "metadata": {},
   "outputs": [],
   "source": [
    "model_name = \"CHANGE THIS TO MODEL NAME\"\n",
    "model = app.models.find_one_model(name=model_name)"
   ]
  },
  {
   "cell_type": "markdown",
   "metadata": {},
   "source": [
    "## Create model if model does not exist\n",
    "<b>SKIP this section if you already have an existing model</b>"
   ]
  },
  {
   "cell_type": "code",
   "execution_count": null,
   "metadata": {},
   "outputs": [],
   "source": [
    "# Reference for ModelTypes\n",
    "class ModelType(Enum):\n",
    "    \"\"\"\n",
    "    Types of models that can be Trained.\n",
    "    \"\"\"\n",
    "\n",
    "    ZVI_KNN_CLASSIFIER = 0\n",
    "    \"\"\"A KMeans clustering model for quickly clustering assets into general groups.\"\"\"\n",
    "\n",
    "    ZVI_LABEL_DETECTION = 1\n",
    "    \"\"\"Retrain the ResNet50 convolutional neural network with your own labels.\"\"\"\n",
    "\n",
    "    ZVI_FACE_RECOGNITION = 2\n",
    "    \"\"\"Face Recognition model using a KNN classifier.\"\"\"\n",
    "\n",
    "    GCP_LABEL_DETECTION = 4\n",
    "    \"\"\"Train a Google AutoML vision model.\"\"\""
   ]
  },
  {
   "cell_type": "code",
   "execution_count": null,
   "metadata": {},
   "outputs": [],
   "source": [
    "model = app.models.create_model(name=model_name, type=ModelType.ZVI_KNN_CLASSIFIER)"
   ]
  },
  {
   "cell_type": "markdown",
   "metadata": {},
   "source": [
    "# Updating labels for an asset\n",
    "Below are 2 functions for either deleting a single asset or batch labeling assets.\n",
    "\n",
    "For add(), names is a List (see example) and the query searches for filenames with the name element within the filename. <b>This query may need to be updated depending on your search</b>. From here it creates a Label of that name element and adds a Label to a batch of assets matching the query."
   ]
  },
  {
   "cell_type": "code",
   "execution_count": null,
   "metadata": {},
   "outputs": [],
   "source": [
    "batch_max = 360  # max batch value\n",
    "\n",
    "def delete(job_id: str = ''):\n",
    "    \"\"\" Delete an asset from a query based on Job ID\n",
    "    \n",
    "    Args:\n",
    "        job_id: (str) the Job ID which added the asset\n",
    "    \n",
    "    Returns:\n",
    "        None\n",
    "    \"\"\"\n",
    "    q = {\n",
    "        \"size\": batch_max,\n",
    "        \"query\": {\n",
    "            \"match\": {\n",
    "                \"system.jobId\": {\n",
    "                    \"query\": job_id\n",
    "                },\n",
    "            }\n",
    "        }\n",
    "    }\n",
    "\n",
    "    search = app.assets.search(q)\n",
    "    for asset in search:\n",
    "        print(\"deleting {}\".format(asset.document['source']['filename']))\n",
    "        app.assets.delete_asset(asset)\n",
    "\n",
    "\n",
    "def add(names: List[str] = None):\n",
    "    \"\"\" Batch add a label to a query of assets\n",
    "    \n",
    "    Args:\n",
    "        names: (List[str]) list of strings to iterate through for batch labeling\n",
    "        \n",
    "    Returns:\n",
    "        None\n",
    "    \"\"\"\n",
    "    for name in names:\n",
    "        q = {\n",
    "            \"size\": batch_max,\n",
    "            \"query\": {\n",
    "                \"match\": {\n",
    "                    \"source.filename.fulltext\": {\n",
    "                        \"query\": name\n",
    "                    },\n",
    "                }\n",
    "            }\n",
    "        }\n",
    "\n",
    "        label = model.make_label(name)\n",
    "\n",
    "        search = app.assets.search(q).batches_of(batch_max)\n",
    "        for batch in search:\n",
    "            print(\"labeling {} as {}\".format(len(batch), label.label))\n",
    "            app.assets.update_labels(batch, label)\n",
    "\n",
    "\n",
    "# Examples\n",
    "# add(names=['rain', 'shine', 'sunrise', 'foggy', 'cloudy'])\n",
    "# delete(job_id=\"e5431800-d6b7-11ea-8cb3-22473eba6bf5\")\n"
   ]
  },
  {
   "cell_type": "markdown",
   "metadata": {},
   "source": [
    "# Train Model\n",
    "The following cells kick of a training job on the same `model_name` specified above."
   ]
  },
  {
   "cell_type": "code",
   "execution_count": 25,
   "metadata": {},
   "outputs": [
    {
     "data": {
      "text/plain": [
       "'8fdc3acb-2a3c-1745-947b-c2727ff810e9'"
      ]
     },
     "execution_count": 25,
     "metadata": {},
     "output_type": "execute_result"
    }
   ],
   "source": [
    "model.id"
   ]
  },
  {
   "cell_type": "code",
   "execution_count": 12,
   "metadata": {
    "scrolled": true
   },
   "outputs": [
    {
     "name": "stderr",
     "output_type": "stream",
     "text": [
      "/usr/local/lib/python3.7/dist-packages/urllib3/connectionpool.py:986: InsecureRequestWarning: Unverified HTTPS request is being made to host 'dev.api.zvi.zorroa.com'. Adding certificate verification is strongly advised. See: https://urllib3.readthedocs.io/en/latest/advanced-usage.html#ssl-warnings\n",
      "  InsecureRequestWarning,\n"
     ]
    },
    {
     "data": {
      "text/plain": [
       "<zmlp.entity.job.Job at 0x7fea9017cd90>"
      ]
     },
     "execution_count": 12,
     "metadata": {},
     "output_type": "execute_result"
    }
   ],
   "source": [
    "app.models.train_model(model=model, deploy=True)"
   ]
  },
  {
   "cell_type": "code",
   "execution_count": null,
   "metadata": {},
   "outputs": [],
   "source": []
  }
 ],
 "metadata": {
  "kernelspec": {
   "display_name": "Python 3",
   "language": "python",
   "name": "python3"
  },
  "language_info": {
   "codemirror_mode": {
    "name": "ipython",
    "version": 3
   },
   "file_extension": ".py",
   "mimetype": "text/x-python",
   "name": "python",
   "nbconvert_exporter": "python",
   "pygments_lexer": "ipython3",
   "version": "3.7.5"
  },
  "toc": {
   "base_numbering": 1,
   "nav_menu": {},
   "number_sections": true,
   "sideBar": true,
   "skip_h1_title": false,
   "title_cell": "Table of Contents",
   "title_sidebar": "Contents",
   "toc_cell": false,
   "toc_position": {},
   "toc_section_display": true,
   "toc_window_display": false
  }
 },
 "nbformat": 4,
 "nbformat_minor": 4
}
