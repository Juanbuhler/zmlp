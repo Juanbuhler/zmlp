{
 "cells": [
  {
   "cell_type": "markdown",
   "metadata": {},
   "source": [
    "# Import Imagenet Images\n",
    "This notebook will import up to n images from a list of Imagenet keywords"
   ]
  },
  {
   "cell_type": "markdown",
   "metadata": {},
   "source": [
    "## Setup"
   ]
  },
  {
   "cell_type": "code",
   "execution_count": 1,
   "metadata": {},
   "outputs": [
    {
     "name": "stderr",
     "output_type": "stream",
     "text": [
      "[nltk_data] Downloading package wordnet to /home/zorroa/nltk_data...\n",
      "[nltk_data]   Unzipping corpora/wordnet.zip.\n"
     ]
    }
   ],
   "source": [
    "import zmlp\n",
    "from zmlp import app_from_env, FileImport\n",
    "from zmlp import DataSetType, DataSet\n",
    "\n",
    "import nltk\n",
    "nltk.download('wordnet')\n",
    "from nltk.corpus import wordnet as wn\n",
    "\n",
    "import requests\n"
   ]
  },
  {
   "cell_type": "markdown",
   "metadata": {},
   "source": [
    "## Do the import"
   ]
  },
  {
   "cell_type": "code",
   "execution_count": 3,
   "metadata": {
    "scrolled": true
   },
   "outputs": [
    {
     "name": "stdout",
     "output_type": "stream",
     "text": [
      "n02958343\n",
      "n04490091\n",
      "n02691156\n",
      "n02084071\n",
      "n02121620\n",
      "n02374451\n",
      "n01503061\n",
      "n10710632\n",
      "n02129165\n",
      "n02391049\n",
      "n02439033\n",
      "n08509111\n",
      "n02007558\n",
      "n01613294\n",
      "n01619536\n",
      "n00478262\n",
      "n00482298\n",
      "n00464894\n",
      "n00480993\n",
      "n00471613\n",
      "n00468480\n",
      "n02690373\n",
      "n03841666\n",
      "n08615149\n",
      "n04334599\n",
      "n04215402\n",
      "n04202417\n",
      "n04096066\n",
      "n09316454\n",
      "n09328904\n",
      "n09426788\n",
      "n08633957\n",
      "n04490091\n",
      "n02958343\n",
      "n03790512\n",
      "n02834778\n",
      "n10448983\n",
      "n04127904\n",
      "n09376198\n",
      "n04194289\n",
      "n02858304\n",
      "n08465558\n",
      "n08182379\n",
      "n08266235\n",
      "n03179701\n"
     ]
    }
   ],
   "source": [
    "# Set 'labels' to the desired labels\n",
    "# There's no error checking so the labels should generate a valid Wordnet synset id\n",
    "\n",
    "# A lot of the Imagenet image URLs are stale, so 'number_per_label' is an upper limit.\n",
    "# Usually only about 50-60% of the URLs are valid\n",
    "\n",
    "labels = ['car', 'truck', 'plane', 'dog', 'cat', 'horse', 'bird', 'tiger', 'lion']\n",
    "labels += ['zebra', 'giraffe', 'jungle', 'flamingo', 'eagle', 'condor']\n",
    "labels += ['soccer', 'tennis', 'golf', 'basketball', 'baseball', 'football']\n",
    "labels += ['airliner', 'office', 'park', 'street', 'sidewalk', 'shop', 'road', 'island', 'lake', 'sea', 'port']\n",
    "labels += ['truck', 'car', 'motorcycle', 'bicycle', 'policeman', 'sail', 'ocean', 'ship', 'boat', 'van', 'crowd']\n",
    "labels += ['table', 'desk']\n",
    "\n",
    "number_per_label = 200\n",
    "\n",
    "app = app_from_env()\n",
    "#ds = app.datasets.create_dataset('imagenet', DataSetType.LabelDetection)\n",
    "\n",
    "for label in labels:\n",
    "    app = app_from_env()\n",
    "\n",
    "    ss = wn.synset(wn.synsets(label)[0]._name)\n",
    "    offset = str(ss.offset()).zfill(8) + '-' + ss.pos()\n",
    "    offset = 'n' + offset.split('-')[0]\n",
    "    print(offset)\n",
    "    url = 'http://www.image-net.org/api/text/imagenet.synset.geturls?wnid=' + offset\n",
    "    url_list = requests.get(url).text.split()\n",
    "    \n",
    "    #ds_label = ds.make_label(label)\n",
    "    assets = [FileImport(u) for u in url_list[:number_per_label]]\n",
    "\n",
    "    while assets:\n",
    "        app.assets.batch_import_files(assets[:100], modules=[\"zvi-object-detection\"])\n",
    "        assets = assets[100:]"
   ]
  },
  {
   "cell_type": "code",
   "execution_count": null,
   "metadata": {},
   "outputs": [],
   "source": []
  }
 ],
 "metadata": {
  "kernelspec": {
   "display_name": "Python 3",
   "language": "python",
   "name": "python3"
  },
  "language_info": {
   "codemirror_mode": {
    "name": "ipython",
    "version": 3
   },
   "file_extension": ".py",
   "mimetype": "text/x-python",
   "name": "python",
   "nbconvert_exporter": "python",
   "pygments_lexer": "ipython3",
   "version": "3.7.5"
  },
  "toc": {
   "base_numbering": 1,
   "nav_menu": {},
   "number_sections": true,
   "sideBar": true,
   "skip_h1_title": true,
   "title_cell": "Table of Contents",
   "title_sidebar": "Contents",
   "toc_cell": false,
   "toc_position": {},
   "toc_section_display": true,
   "toc_window_display": true
  }
 },
 "nbformat": 4,
 "nbformat_minor": 4
}
