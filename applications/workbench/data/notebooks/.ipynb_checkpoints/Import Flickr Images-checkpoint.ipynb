{
 "cells": [
  {
   "cell_type": "markdown",
   "metadata": {},
   "source": [
    "# Flickr Group Import\n",
    "\n",
    "This notebook will import images from a Flickr group or person.\n",
    "\n",
    "For this you need the group or person ID from Flickr in personID. A few valid IDs are provided as global variables."
   ]
  },
  {
   "cell_type": "code",
   "execution_count": 4,
   "metadata": {
    "scrolled": true
   },
   "outputs": [
    {
     "name": "stdout",
     "output_type": "stream",
     "text": [
      "Defaulting to user installation because normal site-packages is not writeable\n",
      "Requirement already satisfied: flickr_api in /home/zorroa/.local/lib/python3.7/site-packages (0.7.3)\n",
      "Requirement already satisfied: oauth2 in /home/zorroa/.local/lib/python3.7/site-packages (from flickr_api) (1.9.0.post1)\n",
      "Requirement already satisfied: requests in /usr/local/lib/python3.7/dist-packages (from flickr_api) (2.23.0)\n",
      "Requirement already satisfied: six in /usr/local/lib/python3.7/dist-packages (from flickr_api) (1.14.0)\n",
      "Requirement already satisfied: httplib2 in /usr/local/lib/python3.7/dist-packages (from oauth2->flickr_api) (0.17.3)\n",
      "Requirement already satisfied: chardet<4,>=3.0.2 in /usr/local/lib/python3.7/dist-packages (from requests->flickr_api) (3.0.4)\n",
      "Requirement already satisfied: certifi>=2017.4.17 in /usr/local/lib/python3.7/dist-packages (from requests->flickr_api) (2020.4.5.1)\n",
      "Requirement already satisfied: urllib3!=1.25.0,!=1.25.1,<1.26,>=1.21.1 in /usr/local/lib/python3.7/dist-packages (from requests->flickr_api) (1.25.9)\n",
      "Requirement already satisfied: idna<3,>=2.5 in /usr/local/lib/python3.7/dist-packages (from requests->flickr_api) (2.9)\n",
      "\u001b[33mWARNING: You are using pip version 20.0.2; however, version 20.1 is available.\n",
      "You should consider upgrading via the '/usr/bin/python3 -m pip install --upgrade pip' command.\u001b[0m\n"
     ]
    }
   ],
   "source": [
    "!pip install flickr_api"
   ]
  },
  {
   "cell_type": "code",
   "execution_count": 7,
   "metadata": {},
   "outputs": [
    {
     "name": "stdout",
     "output_type": "stream",
     "text": [
      "Defaulting to user installation because normal site-packages is not writeable\n",
      "Requirement already satisfied: flickr_api in /home/zorroa/.local/lib/python3.7/site-packages (0.7.3)\n",
      "Requirement already satisfied: six in /usr/local/lib/python3.7/dist-packages (from flickr_api) (1.14.0)\n",
      "Requirement already satisfied: oauth2 in /home/zorroa/.local/lib/python3.7/site-packages (from flickr_api) (1.9.0.post1)\n",
      "Requirement already satisfied: requests in /usr/local/lib/python3.7/dist-packages (from flickr_api) (2.23.0)\n",
      "Requirement already satisfied: httplib2 in /usr/local/lib/python3.7/dist-packages (from oauth2->flickr_api) (0.17.3)\n",
      "Requirement already satisfied: chardet<4,>=3.0.2 in /usr/local/lib/python3.7/dist-packages (from requests->flickr_api) (3.0.4)\n",
      "Requirement already satisfied: urllib3!=1.25.0,!=1.25.1,<1.26,>=1.21.1 in /usr/local/lib/python3.7/dist-packages (from requests->flickr_api) (1.25.9)\n",
      "Requirement already satisfied: certifi>=2017.4.17 in /usr/local/lib/python3.7/dist-packages (from requests->flickr_api) (2020.4.5.1)\n",
      "Requirement already satisfied: idna<3,>=2.5 in /usr/local/lib/python3.7/dist-packages (from requests->flickr_api) (2.9)\n",
      "\u001b[33mWARNING: You are using pip version 20.0.2; however, version 20.1 is available.\n",
      "You should consider upgrading via the '/usr/bin/python3 -m pip install --upgrade pip' command.\u001b[0m\n"
     ]
    },
    {
     "ename": "ModuleNotFoundError",
     "evalue": "No module named 'flickr_api'",
     "output_type": "error",
     "traceback": [
      "\u001b[0;31m---------------------------------------------------------------------------\u001b[0m",
      "\u001b[0;31mModuleNotFoundError\u001b[0m                       Traceback (most recent call last)",
      "\u001b[0;32m<ipython-input-7-6d10c7a441a2>\u001b[0m in \u001b[0;36m<module>\u001b[0;34m\u001b[0m\n\u001b[1;32m      1\u001b[0m \u001b[0mget_ipython\u001b[0m\u001b[0;34m(\u001b[0m\u001b[0;34m)\u001b[0m\u001b[0;34m.\u001b[0m\u001b[0msystem\u001b[0m\u001b[0;34m(\u001b[0m\u001b[0;34m'pip install flickr_api'\u001b[0m\u001b[0;34m)\u001b[0m\u001b[0;34m\u001b[0m\u001b[0;34m\u001b[0m\u001b[0m\n\u001b[0;32m----> 2\u001b[0;31m \u001b[0;32mimport\u001b[0m \u001b[0mflickr_api\u001b[0m \u001b[0;32mas\u001b[0m \u001b[0mflickr\u001b[0m\u001b[0;34m\u001b[0m\u001b[0;34m\u001b[0m\u001b[0m\n\u001b[0m",
      "\u001b[0;31mModuleNotFoundError\u001b[0m: No module named 'flickr_api'"
     ]
    }
   ],
   "source": [
    "!pip install flickr_api\n",
    "import flickr_api as flickr"
   ]
  },
  {
   "cell_type": "code",
   "execution_count": 5,
   "metadata": {},
   "outputs": [
    {
     "ename": "ModuleNotFoundError",
     "evalue": "No module named 'flickr_api'",
     "output_type": "error",
     "traceback": [
      "\u001b[0;31m---------------------------------------------------------------------------\u001b[0m",
      "\u001b[0;31mModuleNotFoundError\u001b[0m                       Traceback (most recent call last)",
      "\u001b[0;32m<ipython-input-5-b98146a40f41>\u001b[0m in \u001b[0;36m<module>\u001b[0;34m\u001b[0m\n\u001b[1;32m      3\u001b[0m \u001b[0;32mfrom\u001b[0m \u001b[0mzmlp\u001b[0m \u001b[0;32mimport\u001b[0m \u001b[0mDataSetType\u001b[0m\u001b[0;34m,\u001b[0m \u001b[0mDataSet\u001b[0m\u001b[0;34m\u001b[0m\u001b[0;34m\u001b[0m\u001b[0m\n\u001b[1;32m      4\u001b[0m \u001b[0;34m\u001b[0m\u001b[0m\n\u001b[0;32m----> 5\u001b[0;31m \u001b[0;32mimport\u001b[0m \u001b[0mflickr_api\u001b[0m \u001b[0;32mas\u001b[0m \u001b[0mflickr\u001b[0m\u001b[0;34m\u001b[0m\u001b[0;34m\u001b[0m\u001b[0m\n\u001b[0m\u001b[1;32m      6\u001b[0m \u001b[0;34m\u001b[0m\u001b[0m\n\u001b[1;32m      7\u001b[0m \u001b[0;31m# These are Flickr group codes, found in the URL for the main page for any Flickr group\u001b[0m\u001b[0;34m\u001b[0m\u001b[0;34m\u001b[0m\u001b[0;34m\u001b[0m\u001b[0m\n",
      "\u001b[0;31mModuleNotFoundError\u001b[0m: No module named 'flickr_api'"
     ]
    }
   ],
   "source": [
    "import zmlp\n",
    "from zmlp import app_from_env, FileImport\n",
    "from zmlp import DataSetType, DataSet\n",
    "\n",
    "import flickr_api as flickr\n",
    "\n",
    "# These are Flickr group codes, found in the URL for the main page for any Flickr group\n",
    "# These are public domain photos\n",
    "TheLibraryOfCongress = '8623220@N02'\n",
    "NewYorkPublicLibrary = '32951986@N05'\n",
    "StateLibraryAndArchivesOfFlorida = '31846825@N04'\n",
    "SMULibraries = '41131493@N06'\n",
    "TexasStateArchives = '47326604@N02'\n",
    "\n",
    "ObamaWhiteHouse = '35591378@N03'\n"
   ]
  },
  {
   "cell_type": "code",
   "execution_count": 2,
   "metadata": {},
   "outputs": [
    {
     "name": "stdout",
     "output_type": "stream",
     "text": [
      "Page  1\n",
      "Page  2\n",
      "Page  3\n",
      "Page  4\n",
      "Page  5\n",
      "Page  6\n",
      "Page  7\n",
      "Page  8\n",
      "Page  9\n",
      "Page  10\n",
      "Page  11\n",
      "Page  12\n",
      "Page  13\n",
      "Page  14\n",
      "Page  15\n",
      "Page  16\n",
      "Page  17\n",
      "Page  18\n",
      "Page  19\n",
      "Page  20\n",
      "Page  21\n",
      "Page  22\n",
      "Page  23\n",
      "Page  24\n",
      "Page  25\n",
      "Page  26\n",
      "Page  27\n",
      "Page  28\n",
      "Page  29\n",
      "Page  30\n"
     ]
    }
   ],
   "source": [
    "\n",
    "flickr.set_keys(api_key = '5b6316c0267072cb4e2d38f53874eb87', api_secret = '3ab5a3dd5ce252f6')\n",
    "\n",
    "personID = ObamaWhiteHouse\n",
    "group_or_person = flickr.Person(id=personID)\n",
    "\n",
    "firstPage = 1\n",
    "perPage = 5\n",
    "total = 150\n",
    "nPages = total // perPage + 1\n",
    "\n",
    "app = app_from_env()\n",
    "\n",
    "for p in range(firstPage, nPages):\n",
    "    print ('Page ' , p)\n",
    "    try:\n",
    "        photos = group_or_person.getPhotos(per_page=perPage, page=p)\n",
    "    except:\n",
    "        photos = []\n",
    "        \n",
    "    url_list = []\n",
    "    for photo in photos:\n",
    "        #print(photo.getPhotoFile())\n",
    "        url_list.append(photo.getPhotoFile())\n",
    "\n",
    "    assets = [FileImport(u) for u in url_list]\n",
    "    while assets:\n",
    "        app.assets.batch_import_files(assets[:100], modules=[\"zvi-face-detection\", \"zvi-object-detection\"])\n",
    "        assets = assets[100:]"
   ]
  },
  {
   "cell_type": "code",
   "execution_count": null,
   "metadata": {},
   "outputs": [],
   "source": []
  }
 ],
 "metadata": {
  "kernelspec": {
   "display_name": "Python 3",
   "language": "python",
   "name": "python3"
  },
  "language_info": {
   "codemirror_mode": {
    "name": "ipython",
    "version": 3
   },
   "file_extension": ".py",
   "mimetype": "text/x-python",
   "name": "python",
   "nbconvert_exporter": "python",
   "pygments_lexer": "ipython3",
   "version": "3.7.5"
  },
  "toc": {
   "base_numbering": 1,
   "nav_menu": {},
   "number_sections": false,
   "sideBar": true,
   "skip_h1_title": false,
   "title_cell": "Table of Contents",
   "title_sidebar": "Contents",
   "toc_cell": false,
   "toc_position": {},
   "toc_section_display": true,
   "toc_window_display": true
  }
 },
 "nbformat": 4,
 "nbformat_minor": 4
}
