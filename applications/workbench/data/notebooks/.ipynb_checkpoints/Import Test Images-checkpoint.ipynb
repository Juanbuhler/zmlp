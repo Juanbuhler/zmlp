{
 "cells": [
  {
   "cell_type": "markdown",
   "metadata": {},
   "source": [
    "# Import Test Images\n",
    "\n",
    "This notebook will import a small group of test images from URLs."
   ]
  },
  {
   "cell_type": "code",
   "execution_count": 1,
   "metadata": {},
   "outputs": [],
   "source": [
    "import zmlp\n",
    "from zmlp.asset import FileUpload, FileImport\n",
    "from zmlp import app_from_env\n",
    "\n",
    "import glob"
   ]
  },
  {
   "cell_type": "markdown",
   "metadata": {},
   "source": [
    "## Build list of URIs and import"
   ]
  },
  {
   "cell_type": "code",
   "execution_count": 2,
   "metadata": {},
   "outputs": [
    {
     "data": {
      "text/plain": [
       "{'failed': [],\n",
       " 'created': ['qUhIbw6tyOB1ybBcF00yt4ri3a2GomaY',\n",
       "  'NLTuRl09W3CX4G78lQxKvdx01TZUpVMN',\n",
       "  'VPq5lg9_aqR-vhW6M-3_xnrHxfWyu2UW',\n",
       "  'xp5wF4GuPP-FziBJr5f13tcUlQLhxr0L',\n",
       "  'fm89_X9p0cOrKiK2y97CgR7PHQocztAE',\n",
       "  'LOqrQDeLqnOkH0je6vOooMGkBMXke4DQ',\n",
       "  'SSUdTZgqTuoOHuMMFOU4FVtx1lBAO5zw',\n",
       "  'O2IouGaDOI5YmUNpj0Dl76FR1-ZGgzUK',\n",
       "  'ynhes1M00XbPNhjW0IDUBUfGlHs_mF3k'],\n",
       " 'exists': [],\n",
       " 'jobId': '8504e76c-62dc-1209-9c18-0242ac120008',\n",
       " 'totalUpdated': 9}"
      ]
     },
     "execution_count": 2,
     "metadata": {},
     "output_type": "execute_result"
    }
   ],
   "source": [
    "urls = ['http://www.jbuhler.com/wp-content/uploads/img20200406_11355945-Edit-960x608.jpg',\n",
    "        'http://www.jbuhler.com/wp-content/uploads/img20200403_15090327-Edit-783x800.jpg',\n",
    "        'http://www.jbuhler.com/wp-content/uploads/20200105-R0003703-960x636.jpg',\n",
    "        'http://www.jbuhler.com/wp-content/uploads/20190919-DSC07222-Edit-960x640.jpg',\n",
    "        'http://www.jbuhler.com/wp-content/uploads/20190923-R0003479-Edit-960x636.jpg',\n",
    "        'http://www.jbuhler.com/wp-content/uploads/20190912-R0003228-Edit-960x636.jpg',\n",
    "        'http://www.jbuhler.com/wp-content/uploads/20170929-DSC04241-Edit-960x640.jpg',\n",
    "        'http://www.jbuhler.com/wp-content/uploads/20190825-R0003080-Edit-960x636.jpg']\n",
    "\n",
    "\n",
    "urls += ['https://ca-times.brightspotcdn.com/dims4/default/fe4cc0c/2147483647/strip/true/crop/800x535+0+0/resize/840x562!/quality/90/?url=https%3A%2F%2Fcalifornia-times-brightspot.s3.amazonaws.com%2Fe3%2Fe0%2F375ee4d44410b49b70c3c0a76713%2Fsoccer-ball.jpg']\n",
    "\n",
    "\n",
    "app = app_from_env()\n",
    "\n",
    "assets = [FileImport(url) for url in urls]\n",
    "\n",
    "app.assets.batch_import_files(assets, modules=[\"zvi-object-detection\"])\n"
   ]
  },
  {
   "cell_type": "markdown",
   "metadata": {},
   "source": [
    "## Import Local Files (optional)"
   ]
  },
  {
   "cell_type": "code",
   "execution_count": null,
   "metadata": {},
   "outputs": [],
   "source": [
    "# This will import files from local disk. Just edit the paths accordingly\n",
    "\n",
    "app = app_from_env()\n",
    "\n",
    "files = []\n",
    "paths = glob.glob('/data/YOUR_PATH_HERE')\n",
    "\n",
    "for p in paths:\n",
    "    files.append(FileUpload(p))\n",
    "\n",
    "# We'll only probably have a handful of test files, but we'll still import 100 at a time, just in case\n",
    "while files:\n",
    "    app.assets.batch_upload_files(files[:100], modules=[\"zvi-object-detection\"])\n",
    "    files = files[100:]\n"
   ]
  }
 ],
 "metadata": {
  "kernelspec": {
   "display_name": "Python 3",
   "language": "python",
   "name": "python3"
  },
  "language_info": {
   "codemirror_mode": {
    "name": "ipython",
    "version": 3
   },
   "file_extension": ".py",
   "mimetype": "text/x-python",
   "name": "python",
   "nbconvert_exporter": "python",
   "pygments_lexer": "ipython3",
   "version": "3.7.5"
  },
  "toc": {
   "base_numbering": 1,
   "nav_menu": {},
   "number_sections": true,
   "sideBar": true,
   "skip_h1_title": true,
   "title_cell": "Table of Contents",
   "title_sidebar": "Contents",
   "toc_cell": false,
   "toc_position": {},
   "toc_section_display": true,
   "toc_window_display": true
  }
 },
 "nbformat": 4,
 "nbformat_minor": 4
}
