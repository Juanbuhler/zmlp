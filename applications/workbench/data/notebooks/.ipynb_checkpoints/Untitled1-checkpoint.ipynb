{
 "cells": [
  {
   "cell_type": "code",
   "execution_count": 66,
   "metadata": {},
   "outputs": [],
   "source": [
    "import os\n",
    "import string\n",
    "import random\n",
    "import numpy as np\n",
    "\n",
    "from tensorflow.keras.models import Sequential\n",
    "from tensorflow.keras.layers import Dense, Activation\n",
    "from tensorflow.keras.optimizers import SGD\n",
    "from tensorflow.keras.utils import to_categorical\n"
   ]
  },
  {
   "cell_type": "code",
   "execution_count": 37,
   "metadata": {},
   "outputs": [
    {
     "name": "stdout",
     "output_type": "stream",
     "text": [
      "cat\n",
      "dog\n",
      "cat\n",
      "dog\n",
      "dog\n",
      "dog\n",
      "cat\n",
      "cat\n",
      "dog\n",
      "cat\n"
     ]
    }
   ],
   "source": [
    "class_names = ['dog', 'cat']\n",
    "\n",
    "for _ in range(10):\n",
    "    i = random.randint(0,1)\n",
    "    print(class_names[i])\n",
    "    "
   ]
  },
  {
   "cell_type": "code",
   "execution_count": 45,
   "metadata": {},
   "outputs": [],
   "source": [
    "def id_generator(size=6, chars=string.ascii_uppercase):\n",
    "    return ''.join(random.choice(chars) for _ in range(size))\n",
    "\n",
    "def create_num_hash(shash):\n",
    "    return [(ord(char) - 65) / 16.0 for char in shash]\n",
    "\n",
    "def load_data(num_loops=0):\n",
    "    train_x, train_y = [], []\n",
    "    test_x, test_y = [], []\n",
    "    class_names = ['dog', 'cat']\n",
    "    \n",
    "    PTEST = 0.3\n",
    "    random.seed(42)\n",
    "    \n",
    "    for a in range(num_loops):\n",
    "        charhash = id_generator(2048)\n",
    "        num_hash = create_num_hash(charhash)\n",
    "        \n",
    "        if random.random() > PTEST:\n",
    "            train_x.append(num_hash)\n",
    "            train_y.append(class_names[random.randint(0,1)])\n",
    "        else:\n",
    "            test_x.append(num_hash)\n",
    "            test_y.append(class_names[random.randint(0,1)])\n",
    "\n",
    "    # Convert labels to an array of indices\n",
    "    cats = list(set(train_y))\n",
    "    train_y = [cats.index(i) for i in train_y]\n",
    "    test_y = [cats.index(i) for i in test_y]\n",
    "    \n",
    "    train_x = np.array(train_x)\n",
    "    test_x = np.array(test_x)\n",
    "\n",
    "    train_y = to_categorical(train_y, len(class_names))\n",
    "    test_y = to_categorical(test_y, len(class_names))\n",
    "    \n",
    "    return (train_x, train_y), (test_x, test_y), cats\n"
   ]
  },
  {
   "cell_type": "code",
   "execution_count": 46,
   "metadata": {
    "code_folding": [
     0
    ]
   },
   "outputs": [],
   "source": [
    "shash = \\\n",
    "    '0050FPPOGPPKPIPCAPPPDHHIGPCLJEPLPPPAPPGPDPFPPGPADCBFGIPGDDCIPIGPPDPABPOMPNPAPBPPDKP' \\\n",
    "    'MPJMAPBPDPBOGLPDPPADOENPAAPBPPAPGAIGPDIPOGEPLCGAPPPPOAPBAJFMPPPDCPNKGAAMPLHIPEPDICO' \\\n",
    "    'PLPIAEPACLJPCKMPGBPOLJAABLAPAPMMPOFPKPHEPLBPPMLPKFNPMKACECLPJPPABPPPAFPGIOEPBPAPPOH' \\\n",
    "    'AFAHPPPJPPMDPAPPPELPAPCPPAKMLHJGPAGPMKPALPJPOMPPPPPJPPPAPPPLFINKPEBAAPADDPNMPLPPCBD' \\\n",
    "    'PPOCCBCIPHDACPPCPHBDPBAPBPPALAPHPCFBCADAAPPHPHEPNHNCBOPDPPIPEABNHFPAPEPPDPPAAAPLMDP' \\\n",
    "    'EAKPPPEGPAFPPBABDAOCKPPNPOPPGBGGPPKPMBPCDKCPBCDAPAPACAPPKHPGPPPPANPCEPCPJJGPPPEAPPA' \\\n",
    "    'LPAIPEIICAGPPEPDDPNPFACMPGPBPDCFICPAPPPPCPCPNIGPBPNAGPPJEPEPPAHPAEAMKPBMLAPHPNPPDAK' \\\n",
    "    'PGCPGPPPPPPABABPCPPANPPDEPHGCKFPAPPAPOEHNAAAKPDPNPOAGOPBPPPAPIPPIDDAPPPMAAPEMAIGAKG' \\\n",
    "    'ABPPPGLPAPDOEHKIPPHPNPJCNPAGECLIIFAKPDIGDAPNPDPPIGACAOPACPBPBCAPPKPPIMPFKAALPAPGBAK' \\\n",
    "    'AKPJPKDOAPPBPPPPPHIAPPBPPPPBFPPABACPGDJIPBPLIHPHPLPPIPLAPBCOGOJPGAPAGPDPMAMCNLGLHIL' \\\n",
    "    'PMGDPAMAPJPHPPLPDFBDAKPLPPPKOPPGIFCPDJJPOPAPNAADAGPLGAEPMAFOPEPAHIDPDPBAJMEOGAPCGCA' \\\n",
    "    'MPNCJFDPPGGDCMJPHMDPLGDAMIACPPPPPKPPIGPPPPOACPADPFPKBPNPCHPHBFAPONFKAEAPADPACAMLPPI' \\\n",
    "    'PPDMPCPAPBCPCPJPJFFHPPCPGMPPFHPAMEAOIPPPDPPMAPJAHPPPPPCPAFPAAPEMAAMPPPBBAPDPLHDPPPB' \\\n",
    "    'PPGHEEPDPDPPPEFGPBPBFEPLEPAAPEAPPEMAPPGJLGPPADNPPFMDPMFMPNPAOBMPAAICPGNPPJPPPDOPDBP' \\\n",
    "    'ADAPHPPDAAAEHAPCPIAKLPGAHLPHDBABPHGPKBNFPPGPADPKEFPEEMPDJBIPAPBPCPBHPPCIODDAPLGPBDP' \\\n",
    "    'APKBIPNBCIFHMDPAHPPPPCPPHABAAGPCPAACKFLJPPBAPPMPMOPAACJEPGPBEEHPPGPHPPIAPMPBEBPJBBF' \\\n",
    "    'BPKPPHPPAPDECPPOBIPPIPBAAAPABGABPAPGGJJPAEEPBPABDEBPPODCPGDPKPPPAPPJDBKPOPABPPAIGGG' \\\n",
    "    'PCBDPJBBPPAPPAPADEPPAPAPPFPPPPPPPCDPPLDIDBNPOECGPJPGLPPACPEPPPPPFFAPPBPCAMPKGPAGOPP' \\\n",
    "    'PPGAAFPAPPLPEPHPKBAEJPPBDPPDPPIGOGPFPKBLMBPPAHPIJPLEAIHPPPBFBOEADBPFCDPPGAAPMKPNPCP' \\\n",
    "    'MAPJPHEOPPIKEEOJPKEDJIEAIJPPPBNPEPPJJADFCKMCPADABEABPAPPAOBKDEIPAACPPDBEPPFPDCJPPCP' \\\n",
    "    'CIABPAPHHPCLPMPNPPJAPNALPGKPOPAGPICGPGPAPPCPDPPGAFADLHIPPPOPPKPPAELAMLKACPIPPJBPBPA' \\\n",
    "    'PCCAPHPPJPFPBKBPHGKDAPPPBAPHDAPMBPOABEPPPPHJNPAEPELCPPPPPPCCAJPBPNFGADHPPIKHGGBPAKF' \\\n",
    "    'APODJCPPPPGCPPPPPPKAAAPKBNPPIHOPKPOHPPPAHJABEPKABGPGGDEAMPAAMFELPHILIPAPEHEPPPPPPLC' \\\n",
    "    'APAPPPJPPIPBDGJPCBPKEGCHPJGJPPKPPPFBAPAFDHPFPEDHPLMPBJAPNPBAJBPAJEPJEAGPPFFPJFPLPIP' \\\n",
    "    'JJEPPJPPEMGLKAAPPDCEPPLAGCEIEMAFPABPIPKPPPBAPKOPJAAKPABDFDCFB'"
   ]
  },
  {
   "cell_type": "code",
   "execution_count": 47,
   "metadata": {},
   "outputs": [],
   "source": [
    "(train_x, train_y), (test_x, test_y), class_names = load_data(100)"
   ]
  },
  {
   "cell_type": "code",
   "execution_count": 48,
   "metadata": {},
   "outputs": [
    {
     "data": {
      "text/plain": [
       "['dog', 'cat']"
      ]
     },
     "execution_count": 48,
     "metadata": {},
     "output_type": "execute_result"
    }
   ],
   "source": [
    "class_names"
   ]
  },
  {
   "cell_type": "code",
   "execution_count": 50,
   "metadata": {
    "scrolled": true
   },
   "outputs": [
    {
     "data": {
      "text/plain": [
       "((75, 2048), (75, 2))"
      ]
     },
     "execution_count": 50,
     "metadata": {},
     "output_type": "execute_result"
    }
   ],
   "source": [
    "train_x.shape, train_y.shape"
   ]
  },
  {
   "cell_type": "code",
   "execution_count": 61,
   "metadata": {},
   "outputs": [
    {
     "name": "stdout",
     "output_type": "stream",
     "text": [
      "Epoch 1/50\n",
      "1/1 [==============================] - 0s 1ms/step - loss: 0.8305 - accuracy: 0.4933\n",
      "Epoch 2/50\n",
      "1/1 [==============================] - 0s 2ms/step - loss: 1.6791 - accuracy: 0.5600\n",
      "Epoch 3/50\n",
      "1/1 [==============================] - 0s 1ms/step - loss: 3.0467 - accuracy: 0.4400\n",
      "Epoch 4/50\n",
      "1/1 [==============================] - 0s 2ms/step - loss: 1.7943 - accuracy: 0.5600\n",
      "Epoch 5/50\n",
      "1/1 [==============================] - 0s 1ms/step - loss: 1.0040 - accuracy: 0.4400\n",
      "Epoch 6/50\n",
      "1/1 [==============================] - 0s 2ms/step - loss: 1.1640 - accuracy: 0.5600\n",
      "Epoch 7/50\n",
      "1/1 [==============================] - 0s 1ms/step - loss: 0.9132 - accuracy: 0.4400\n",
      "Epoch 8/50\n",
      "1/1 [==============================] - 0s 2ms/step - loss: 0.9120 - accuracy: 0.5600\n",
      "Epoch 9/50\n",
      "1/1 [==============================] - 0s 1ms/step - loss: 0.7468 - accuracy: 0.4800\n",
      "Epoch 10/50\n",
      "1/1 [==============================] - 0s 2ms/step - loss: 0.7497 - accuracy: 0.5600\n",
      "Epoch 11/50\n",
      "1/1 [==============================] - 0s 3ms/step - loss: 0.6845 - accuracy: 0.4800\n",
      "Epoch 12/50\n",
      "1/1 [==============================] - 0s 2ms/step - loss: 0.6761 - accuracy: 0.5733\n",
      "Epoch 13/50\n",
      "1/1 [==============================] - 0s 2ms/step - loss: 0.6122 - accuracy: 0.5733\n",
      "Epoch 14/50\n",
      "1/1 [==============================] - 0s 2ms/step - loss: 0.6097 - accuracy: 0.6000\n",
      "Epoch 15/50\n",
      "1/1 [==============================] - 0s 2ms/step - loss: 0.5824 - accuracy: 0.6133\n",
      "Epoch 16/50\n",
      "1/1 [==============================] - 0s 2ms/step - loss: 0.5882 - accuracy: 0.6000\n",
      "Epoch 17/50\n",
      "1/1 [==============================] - 0s 3ms/step - loss: 0.5578 - accuracy: 0.6400\n",
      "Epoch 18/50\n",
      "1/1 [==============================] - 0s 1ms/step - loss: 0.5702 - accuracy: 0.6000\n",
      "Epoch 19/50\n",
      "1/1 [==============================] - 0s 1ms/step - loss: 0.5453 - accuracy: 0.6400\n",
      "Epoch 20/50\n",
      "1/1 [==============================] - 0s 2ms/step - loss: 0.5541 - accuracy: 0.6000\n",
      "Epoch 21/50\n",
      "1/1 [==============================] - 0s 1ms/step - loss: 0.5139 - accuracy: 0.6667\n",
      "Epoch 22/50\n",
      "1/1 [==============================] - 0s 1ms/step - loss: 0.5211 - accuracy: 0.6000\n",
      "Epoch 23/50\n",
      "1/1 [==============================] - 0s 1ms/step - loss: 0.4933 - accuracy: 0.6800\n",
      "Epoch 24/50\n",
      "1/1 [==============================] - 0s 1ms/step - loss: 0.4932 - accuracy: 0.6133\n",
      "Epoch 25/50\n",
      "1/1 [==============================] - 0s 1ms/step - loss: 0.4696 - accuracy: 0.7333\n",
      "Epoch 26/50\n",
      "1/1 [==============================] - 0s 2ms/step - loss: 0.4662 - accuracy: 0.6267\n",
      "Epoch 27/50\n",
      "1/1 [==============================] - 0s 2ms/step - loss: 0.4361 - accuracy: 0.7467\n",
      "Epoch 28/50\n",
      "1/1 [==============================] - 0s 1ms/step - loss: 0.4299 - accuracy: 0.6533\n",
      "Epoch 29/50\n",
      "1/1 [==============================] - 0s 2ms/step - loss: 0.4144 - accuracy: 0.8133\n",
      "Epoch 30/50\n",
      "1/1 [==============================] - 0s 2ms/step - loss: 0.4187 - accuracy: 0.6800\n",
      "Epoch 31/50\n",
      "1/1 [==============================] - 0s 1ms/step - loss: 0.4076 - accuracy: 0.8000\n",
      "Epoch 32/50\n",
      "1/1 [==============================] - 0s 1ms/step - loss: 0.4047 - accuracy: 0.6800\n",
      "Epoch 33/50\n",
      "1/1 [==============================] - 0s 2ms/step - loss: 0.3906 - accuracy: 0.8400\n",
      "Epoch 34/50\n",
      "1/1 [==============================] - 0s 2ms/step - loss: 0.3836 - accuracy: 0.7067\n",
      "Epoch 35/50\n",
      "1/1 [==============================] - 0s 2ms/step - loss: 0.3665 - accuracy: 0.9067\n",
      "Epoch 36/50\n",
      "1/1 [==============================] - 0s 2ms/step - loss: 0.3600 - accuracy: 0.7867\n",
      "Epoch 37/50\n",
      "1/1 [==============================] - 0s 2ms/step - loss: 0.3421 - accuracy: 0.9333\n",
      "Epoch 38/50\n",
      "1/1 [==============================] - 0s 3ms/step - loss: 0.3391 - accuracy: 0.8400\n",
      "Epoch 39/50\n",
      "1/1 [==============================] - 0s 2ms/step - loss: 0.3296 - accuracy: 0.9467\n",
      "Epoch 40/50\n",
      "1/1 [==============================] - 0s 2ms/step - loss: 0.3275 - accuracy: 0.8533\n",
      "Epoch 41/50\n",
      "1/1 [==============================] - 0s 2ms/step - loss: 0.3163 - accuracy: 0.9733\n",
      "Epoch 42/50\n",
      "1/1 [==============================] - 0s 2ms/step - loss: 0.3109 - accuracy: 0.9200\n",
      "Epoch 43/50\n",
      "1/1 [==============================] - 0s 2ms/step - loss: 0.2973 - accuracy: 0.9867\n",
      "Epoch 44/50\n",
      "1/1 [==============================] - 0s 2ms/step - loss: 0.2934 - accuracy: 0.9467\n",
      "Epoch 45/50\n",
      "1/1 [==============================] - 0s 2ms/step - loss: 0.2828 - accuracy: 0.9867\n",
      "Epoch 46/50\n",
      "1/1 [==============================] - 0s 2ms/step - loss: 0.2830 - accuracy: 0.9600\n",
      "Epoch 47/50\n",
      "1/1 [==============================] - 0s 2ms/step - loss: 0.2754 - accuracy: 0.9867\n",
      "Epoch 48/50\n",
      "1/1 [==============================] - 0s 2ms/step - loss: 0.2741 - accuracy: 0.9600\n",
      "Epoch 49/50\n",
      "1/1 [==============================] - 0s 2ms/step - loss: 0.2682 - accuracy: 0.9867\n",
      "Epoch 50/50\n",
      "1/1 [==============================] - 0s 2ms/step - loss: 0.2625 - accuracy: 0.9733\n",
      "1/1 [==============================] - 0s 1ms/step - loss: 0.7180 - accuracy: 0.4800\n",
      "Model: \"sequential_1\"\n",
      "_________________________________________________________________\n",
      "Layer (type)                 Output Shape              Param #   \n",
      "=================================================================\n",
      "dense_2 (Dense)              (None, 100)               204900    \n",
      "_________________________________________________________________\n",
      "dense_3 (Dense)              (None, 2)                 202       \n",
      "_________________________________________________________________\n",
      "activation_1 (Activation)    (None, 2)                 0         \n",
      "=================================================================\n",
      "Total params: 205,102\n",
      "Trainable params: 205,102\n",
      "Non-trainable params: 0\n",
      "_________________________________________________________________\n"
     ]
    }
   ],
   "source": [
    "# n_neurons = int((class1.shape[0] + len(class_names)) / 2)\n",
    "n_neurons = 100\n",
    "\n",
    "model = Sequential()\n",
    "model.add(Dense(n_neurons, input_dim=train_x.shape[1], activation='relu'))\n",
    "model.add(Dense(len(class_names)))\n",
    "model.add(Activation(\"softmax\"))\n",
    "\n",
    "sgd = SGD(lr=0.01)\n",
    "model.compile(loss=\"categorical_crossentropy\", optimizer=sgd, metrics=[\"accuracy\"])\n",
    "model.fit(train_x, train_y, epochs=50, batch_size=128, verbose=1)\n",
    "\n",
    "scores = model.evaluate(test_x, test_y)\n",
    "\n",
    "model.summary()"
   ]
  },
  {
   "cell_type": "code",
   "execution_count": 62,
   "metadata": {},
   "outputs": [
    {
     "data": {
      "text/plain": [
       "(1, 2048)"
      ]
     },
     "execution_count": 62,
     "metadata": {},
     "output_type": "execute_result"
    }
   ],
   "source": [
    "test = id_generator(2048)\n",
    "num_hash = create_num_hash(test)\n",
    "num_hash = np.asarray(num_hash).reshape(1, len(num_hash))\n",
    "\n",
    "num_hash.shape"
   ]
  },
  {
   "cell_type": "code",
   "execution_count": 63,
   "metadata": {},
   "outputs": [],
   "source": [
    "# This is the actual call to the Keras NN\n",
    "prediction = model.predict(num_hash)\n",
    "scores = prediction.tolist()[0]\n",
    "scores, labels = zip(*sorted(zip(scores, class_names), reverse=True))"
   ]
  },
  {
   "cell_type": "code",
   "execution_count": 64,
   "metadata": {},
   "outputs": [
    {
     "data": {
      "text/plain": [
       "((0.7649818658828735, 0.23501814901828766), ('dog', 'cat'))"
      ]
     },
     "execution_count": 64,
     "metadata": {},
     "output_type": "execute_result"
    }
   ],
   "source": [
    "scores, labels"
   ]
  },
  {
   "cell_type": "code",
   "execution_count": 65,
   "metadata": {},
   "outputs": [
    {
     "name": "stdout",
     "output_type": "stream",
     "text": [
      "INFO:tensorflow:Assets written to: keras_test.hd5/assets\n"
     ]
    }
   ],
   "source": [
    "model.save('keras_test.hd5')"
   ]
  },
  {
   "cell_type": "code",
   "execution_count": 70,
   "metadata": {},
   "outputs": [],
   "source": [
    "with open(os.path.join('keras_test.hd5', \"_labels.txt\"), \"w\") as fp:\n",
    "    for label in class_names:\n",
    "        fp.write(\"{}\\n\".format(label))"
   ]
  },
  {
   "cell_type": "code",
   "execution_count": 74,
   "metadata": {},
   "outputs": [],
   "source": [
    "image_classify_metadata = {}\n",
    "\n",
    "# Take the top two results\n",
    "for i in range(0, 2):\n",
    "    image_classify_metadata[\"pred\" + str(i)] = labels[i]\n",
    "    image_classify_metadata[\"prob\" + str(i)] = scores[i]\n",
    "kw = [labels[0]]\n",
    "image_classify_metadata[\"type\"] = \"NeuralNetClassifier on \" + 'hash'\n",
    "image_classify_metadata[\"model\"] = \"trainClassifier\"\n",
    "image_classify_metadata[\"keywords\"] = kw\n",
    "image_classify_metadata[\"confidence\"] = scores[0]"
   ]
  },
  {
   "cell_type": "code",
   "execution_count": 75,
   "metadata": {},
   "outputs": [
    {
     "data": {
      "text/plain": [
       "{'pred0': 'dog',\n",
       " 'prob0': 0.7649818658828735,\n",
       " 'pred1': 'cat',\n",
       " 'prob1': 0.23501814901828766,\n",
       " 'type': 'NeuralNetClassifier on hash',\n",
       " 'model': 'trainClassifier',\n",
       " 'keywords': ['dog'],\n",
       " 'confidence': 0.7649818658828735}"
      ]
     },
     "execution_count": 75,
     "metadata": {},
     "output_type": "execute_result"
    }
   ],
   "source": [
    "image_classify_metadata"
   ]
  },
  {
   "cell_type": "code",
   "execution_count": 78,
   "metadata": {},
   "outputs": [
    {
     "data": {
      "text/plain": [
       "((75, 2048), (75, 2), list)"
      ]
     },
     "execution_count": 78,
     "metadata": {},
     "output_type": "execute_result"
    }
   ],
   "source": [
    "train_x.shape, train_y.shape, type(class_names)"
   ]
  },
  {
   "cell_type": "code",
   "execution_count": 77,
   "metadata": {},
   "outputs": [
    {
     "data": {
      "text/plain": [
       "tensorflow.python.keras.engine.sequential.Sequential"
      ]
     },
     "execution_count": 77,
     "metadata": {},
     "output_type": "execute_result"
    }
   ],
   "source": [
    "type(model)"
   ]
  },
  {
   "cell_type": "code",
   "execution_count": 83,
   "metadata": {},
   "outputs": [
    {
     "data": {
      "text/plain": [
       "[{'shash': 'CYAI'},\n",
       " {'shash': 'WHQJ'},\n",
       " {'shash': 'NEIU'},\n",
       " {'shash': 'TSVF'},\n",
       " {'shash': 'DPOT'},\n",
       " {'shash': 'DFSR'},\n",
       " {'shash': 'KEFK'},\n",
       " {'shash': 'SPVI'},\n",
       " {'shash': 'LJST'},\n",
       " {'shash': 'GNJK'}]"
      ]
     },
     "execution_count": 83,
     "metadata": {},
     "output_type": "execute_result"
    }
   ],
   "source": [
    "[\n",
    "    {\n",
    "        \"_source\": {\n",
    "            \"shash\": id_generator(size=2048)\n",
    "        },\n",
    "    } for _ in range(10)\n",
    "] "
   ]
  },
  {
   "cell_type": "code",
   "execution_count": null,
   "metadata": {},
   "outputs": [],
   "source": []
  }
 ],
 "metadata": {
  "kernelspec": {
   "display_name": "Python 3",
   "language": "python",
   "name": "python3"
  },
  "language_info": {
   "codemirror_mode": {
    "name": "ipython",
    "version": 3
   },
   "file_extension": ".py",
   "mimetype": "text/x-python",
   "name": "python",
   "nbconvert_exporter": "python",
   "pygments_lexer": "ipython3",
   "version": "3.7.5"
  },
  "toc": {
   "base_numbering": 1,
   "nav_menu": {},
   "number_sections": true,
   "sideBar": true,
   "skip_h1_title": false,
   "title_cell": "Table of Contents",
   "title_sidebar": "Contents",
   "toc_cell": false,
   "toc_position": {},
   "toc_section_display": true,
   "toc_window_display": false
  }
 },
 "nbformat": 4,
 "nbformat_minor": 4
}
